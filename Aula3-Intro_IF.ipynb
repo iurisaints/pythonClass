{
  "nbformat": 4,
  "nbformat_minor": 0,
  "metadata": {
    "colab": {
      "name": "Intro_IF.ipynb",
      "provenance": [],
      "authorship_tag": "ABX9TyOhs35+HueCU054bX7nSdp9",
      "include_colab_link": true
    },
    "kernelspec": {
      "name": "python3",
      "display_name": "Python 3"
    },
    "language_info": {
      "name": "python"
    }
  },
  "cells": [
    {
      "cell_type": "markdown",
      "metadata": {
        "id": "view-in-github",
        "colab_type": "text"
      },
      "source": [
        "<a href=\"https://colab.research.google.com/github/iurisaints/pythonClass/blob/main/Aula3-Intro_IF.ipynb\" target=\"_parent\"><img src=\"https://colab.research.google.com/assets/colab-badge.svg\" alt=\"Open In Colab\"/></a>"
      ]
    },
    {
      "cell_type": "markdown",
      "source": [
        "# AULA 3 - CONDIÇÃO SIMPLES"
      ],
      "metadata": {
        "id": "BRM0cOrs4m1J"
      }
    },
    {
      "cell_type": "markdown",
      "source": [
        "Para comparar dois números ou colocarmos uma condição para uma ação no nosso programa iremos usar um comando chamado **IF** acompanhado do **ELSE**. IF = SE e o ELSE = SENÃO."
      ],
      "metadata": {
        "id": "-V-U2j2UjUsK"
      }
    },
    {
      "cell_type": "markdown",
      "source": [
        "Primeiro iremos comparar dois números."
      ],
      "metadata": {
        "id": "1jkDB2XdjhCx"
      }
    },
    {
      "cell_type": "code",
      "source": [
        "num1 = int(input(\"Insira o primeiro valor a ser comparado:\"))\n",
        "num2 = int(input(\"Insira o segundo valor a ser comparado:\"))\n",
        "if (num1 == num2):\n",
        "  print(\"Que legal, o\", num1, \"é igual a\", num2)\n",
        "else:\n",
        "  print(\"O\", num1, \"é diferente de\", num2)"
      ],
      "metadata": {
        "colab": {
          "base_uri": "https://localhost:8080/"
        },
        "id": "460xfZzBfm-J",
        "outputId": "12f3e01e-dd15-4a17-f177-830531a50405"
      },
      "execution_count": 3,
      "outputs": [
        {
          "output_type": "stream",
          "name": "stdout",
          "text": [
            "Insira o primeiro valor a ser comparado:50\n",
            "Insira o segundo valor a ser comparado:25\n",
            "O 50 é diferente de 25\n"
          ]
        }
      ]
    },
    {
      "cell_type": "markdown",
      "source": [
        "Notou que eu usei, para comparar se era igual o \"==\"?\n",
        "Então, esse é um dos nossos operadores relacionais.\n",
        "E são esses:\n",
        "> o símbolo == para Igual <br> \n",
        "> o símbolo != para Diferente <br> \n",
        "> o símbolo > para a maior que b <br> \n",
        "> o símbolo < para a menor que b <br>\n",
        "> o símbolo >=  para a maior que ou igual a b <br> \n",
        "> o símbolo <=  para a menor que ou igual a b."
      ],
      "metadata": {
        "id": "i-L35un3kHBA"
      }
    },
    {
      "cell_type": "markdown",
      "source": [
        "Para compararmos se um aluno passou ou não, temos que ter uma condição IF ELSE. Então SE o aluno tirou 7 ou mais ele passou SENÃO ele reprovou, mas como se faz isso? Olhe o exemplo:"
      ],
      "metadata": {
        "id": "Qd3zTTFi4tGQ"
      }
    },
    {
      "cell_type": "code",
      "execution_count": null,
      "metadata": {
        "colab": {
          "base_uri": "https://localhost:8080/"
        },
        "id": "4FwTRJBI4kHe",
        "outputId": "ee376546-b138-44ac-dc8b-ccfea356550e"
      },
      "outputs": [
        {
          "output_type": "stream",
          "name": "stdout",
          "text": [
            "Insira uma nota: 50.25\n",
            "Insira outra nota: 60.80\n",
            "O resultado da média de dois valores é:  55.525\n",
            "Insira mais uma nota: 80.50\n",
            "Agora as três notas somadas e uma média entre elas:  63.85\n",
            "Você ficou com 63.85 que pena, você está reprovado.\n"
          ]
        }
      ],
      "source": [
        "nota1 = float(input(\"Insira uma nota: \"))\n",
        "nota2 = float(input(\"Insira outra nota: \"))\n",
        "media1 = (nota1 + nota2) / 2\n",
        "print(\"O resultado da média de dois valores é: \", media1)\n",
        "nota3 = float(input(\"Insira mais uma nota: \"))\n",
        "media2 = (nota1 + nota2 + nota3) / 3\n",
        "print(\"Agora as três notas somadas e uma média entre elas: \", media2)\n",
        "if(media2 >= 70):\n",
        "  print(\"Você ficou com\", media2, \"você está aprovado(a), parabéns!\")\n",
        "else:\n",
        "    print(\"Você ficou com\", media2, \", que pena, você está reprovado.\")"
      ]
    }
  ]
}