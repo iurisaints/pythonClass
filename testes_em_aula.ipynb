{
  "nbformat": 4,
  "nbformat_minor": 0,
  "metadata": {
    "colab": {
      "name": "testes_em_aula.ipynb",
      "provenance": [],
      "authorship_tag": "ABX9TyPCTD1Kwv5afnjdddje9Po0",
      "include_colab_link": true
    },
    "kernelspec": {
      "name": "python3",
      "display_name": "Python 3"
    },
    "language_info": {
      "name": "python"
    }
  },
  "cells": [
    {
      "cell_type": "markdown",
      "metadata": {
        "id": "view-in-github",
        "colab_type": "text"
      },
      "source": [
        "<a href=\"https://colab.research.google.com/github/iurisaints/pythonClass/blob/main/testes_em_aula.ipynb\" target=\"_parent\"><img src=\"https://colab.research.google.com/assets/colab-badge.svg\" alt=\"Open In Colab\"/></a>"
      ]
    },
    {
      "cell_type": "markdown",
      "source": [
        "teste para funcionalidade de soma de strings"
      ],
      "metadata": {
        "id": "NZNV1jR-0oMH"
      }
    },
    {
      "cell_type": "code",
      "source": [
        "a = \"bom\""
      ],
      "metadata": {
        "id": "0HW2u72eRPNu"
      },
      "execution_count": null,
      "outputs": []
    },
    {
      "cell_type": "code",
      "execution_count": null,
      "metadata": {
        "colab": {
          "base_uri": "https://localhost:8080/"
        },
        "id": "o0LixADF0llG",
        "outputId": "06f9b0cb-9432-4a67-d6c5-65278cd33941"
      },
      "outputs": [
        {
          "output_type": "stream",
          "name": "stdout",
          "text": [
            "Digite um valor: 45\n",
            "Digite outro valor: 50\n",
            "95\n"
          ]
        }
      ],
      "source": [
        "a = int(input(\"Digite um valor: \"))\n",
        "b = int(input(\"Digite outro valor: \"))\n",
        "print(a+b)"
      ]
    },
    {
      "cell_type": "code",
      "source": [
        "nome\t= (\"iuri\")\n",
        "idade\t= int(23)\n",
        "peso\t= int(110)\n",
        "altura\t= int(171)\n",
        "print(nome, idade, peso, altura)\n"
      ],
      "metadata": {
        "id": "CZpmHoelsd_z",
        "outputId": "ccaaef85-d4c1-4913-a59a-cd906625e960",
        "colab": {
          "base_uri": "https://localhost:8080/"
        }
      },
      "execution_count": null,
      "outputs": [
        {
          "output_type": "stream",
          "name": "stdout",
          "text": [
            "iuri 23 110 171\n"
          ]
        }
      ]
    },
    {
      "cell_type": "code",
      "source": [
        "A = float(input(\"Digite a sua primeira nota: \"))\n",
        "B = float(input(\"Digite a sua segunda nota: \"))\n",
        "C = float(input(\"Digite a sua terceira nota: \"))\n",
        "\n",
        "MEDIA = float((A+B+C)/3)\n",
        "\n",
        "if(MEDIA < 7):\n",
        "  print(\"Aluno Reprovado, média: %0.1f\" %MEDIA)\n",
        "else :\n",
        "  print(\"Aluno Aprovado, média = %0.1f\" %MEDIA)"
      ],
      "metadata": {
        "colab": {
          "base_uri": "https://localhost:8080/"
        },
        "id": "uL9qbQ6VZxJG",
        "outputId": "e6085810-48f5-46d7-a60c-5ab40ea17747"
      },
      "execution_count": null,
      "outputs": [
        {
          "output_type": "stream",
          "name": "stdout",
          "text": [
            "Digite a sua primeira nota: 10\n",
            "Digite a sua segunda nota: 5\n",
            "Digite a sua terceira nota: 7\n",
            "Aluno Aprovado, média = 7.3\n"
          ]
        }
      ]
    },
    {
      "cell_type": "code",
      "source": [
        "A = int(input())\n",
        "B = int(input())\n",
        "C = int(input())\n",
        "D = int(input())\n",
        "E = (A * B - C * D)\n",
        "print(\"DIFERENCA = \", E)"
      ],
      "metadata": {
        "colab": {
          "base_uri": "https://localhost:8080/"
        },
        "id": "Gl5H7bwucFYo",
        "outputId": "6c9b0d24-d8d5-4425-adb9-c796b2a5dbcc"
      },
      "execution_count": null,
      "outputs": [
        {
          "output_type": "stream",
          "name": "stdout",
          "text": [
            "5\n",
            "6\n",
            "7\n",
            "8\n",
            "DIFERENCA =  -26\n"
          ]
        }
      ]
    }
  ]
}