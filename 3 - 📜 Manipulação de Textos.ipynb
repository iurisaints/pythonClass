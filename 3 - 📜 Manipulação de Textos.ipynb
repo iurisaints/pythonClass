{
  "nbformat": 4,
  "nbformat_minor": 0,
  "metadata": {
    "colab": {
      "name": "Aula4-Manipulacao_Textos.ipynb",
      "provenance": [],
      "authorship_tag": "ABX9TyNa/gB5jANuIl6SWKhgmGJI",
      "include_colab_link": true
    },
    "kernelspec": {
      "name": "python3",
      "display_name": "Python 3"
    },
    "language_info": {
      "name": "python"
    }
  },
  "cells": [
    {
      "cell_type": "markdown",
      "metadata": {
        "id": "view-in-github",
        "colab_type": "text"
      },
      "source": [
        "<a href=\"https://colab.research.google.com/github/iurisaints/pythonClass/blob/main/Aula4_Manipulacao_Textos.ipynb\" target=\"_parent\"><img src=\"https://colab.research.google.com/assets/colab-badge.svg\" alt=\"Open In Colab\"/></a>"
      ]
    },
    {
      "cell_type": "markdown",
      "source": [
        "# AULA 4 - MANIPULAÇÃO DE TEXTOS"
      ],
      "metadata": {
        "id": "kYZHmwAn4nTZ"
      }
    },
    {
      "cell_type": "markdown",
      "source": [
        "Na maioria das vezes não sabemos como será inserido o valor em texto na nossa **string**. Então por isso temos no Python alguns comandos que fazem com que o texto, independente da forma que ele for inserido, seja manipulado para ficar da forma desejada."
      ],
      "metadata": {
        "id": "otyuQ-AV4t5o"
      }
    },
    {
      "cell_type": "markdown",
      "source": [
        "Para ajustarmos o texto no formato Título, colocamos a função .title() após a nossa variável já com o valor, desta forma:"
      ],
      "metadata": {
        "id": "8mAnFZ2B6CbX"
      }
    },
    {
      "cell_type": "code",
      "execution_count": 2,
      "metadata": {
        "colab": {
          "base_uri": "https://localhost:8080/"
        },
        "id": "YjzfQadN4abW",
        "outputId": "e13641fa-4fe1-4a3b-84b2-1238aa6378d6"
      },
      "outputs": [
        {
          "output_type": "stream",
          "name": "stdout",
          "text": [
            "Digite o seu nome em letras minúsculas: iuri\n",
            "Seu nome em letras minúsculas: iuri\n",
            "Agora com a primeira em maiúsculo e as seguintes em minúsculo: Iuri\n"
          ]
        }
      ],
      "source": [
        "nome = input(\"Digite o seu nome em letras minúsculas: \")\n",
        "print(\"Seu nome em letras minúsculas:\", nome)\n",
        "print(\"Agora com a primeira letra em maiúsculo e as seguintes em minúsculo:\", nome.title())"
      ]
    },
    {
      "cell_type": "markdown",
      "source": [
        "Temos a opção de deixar todas as letras em maíusculo, utilizando o .upper() e todas em minúsculo, utilizando o .lower(), assim:"
      ],
      "metadata": {
        "id": "IiXQjfge6271"
      }
    },
    {
      "cell_type": "code",
      "source": [
        "nome = input(\"Digite o seu nome em letras minúsculas: \")\n",
        "print(\"Seu nome em letras minúsculas:\", nome.lower())\n",
        "print(\"Agora com a primeira letra em maiúsculo e as seguintes em minúsculo:\", nome.title())\n",
        "print(\"Agora seu nome em letras maiúsculas:\", nome.upper())"
      ],
      "metadata": {
        "colab": {
          "base_uri": "https://localhost:8080/"
        },
        "id": "2Ah6SeIa62U1",
        "outputId": "b01d8bff-19f1-484a-ff9d-898cf0ed8c98"
      },
      "execution_count": 3,
      "outputs": [
        {
          "output_type": "stream",
          "name": "stdout",
          "text": [
            "Digite o seu nome em letras minúsculas: iuri\n",
            "Seu nome em letras minúsculas: iuri\n",
            "Agora com a primeira letra em maiúsculo e as seguintes em minúsculo: Iuri\n",
            "Agora seu nome em letras maiúsculas: IURI\n"
          ]
        }
      ]
    }
  ]
}
