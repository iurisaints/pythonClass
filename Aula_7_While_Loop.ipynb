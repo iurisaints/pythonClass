{
  "nbformat": 4,
  "nbformat_minor": 0,
  "metadata": {
    "colab": {
      "name": "Aula 7 - While Loop.ipynb",
      "provenance": [],
      "authorship_tag": "ABX9TyNelkAbZaDxkkfzxoxeOgCD",
      "include_colab_link": true
    },
    "kernelspec": {
      "name": "python3",
      "display_name": "Python 3"
    },
    "language_info": {
      "name": "python"
    }
  },
  "cells": [
    {
      "cell_type": "markdown",
      "metadata": {
        "id": "view-in-github",
        "colab_type": "text"
      },
      "source": [
        "<a href=\"https://colab.research.google.com/github/iurisaints/pythonClass/blob/main/Aula_7_While_Loop.ipynb\" target=\"_parent\"><img src=\"https://colab.research.google.com/assets/colab-badge.svg\" alt=\"Open In Colab\"/></a>"
      ]
    },
    {
      "cell_type": "markdown",
      "source": [
        "## LOOP WHILE"
      ],
      "metadata": {
        "id": "9mxCqMFlyg-0"
      }
    },
    {
      "cell_type": "markdown",
      "source": [
        "Com o Loop WHILE nós conseguimos executar uma série de condições verdadeiras"
      ],
      "metadata": {
        "id": "LKFnrrjvtbQ5"
      }
    },
    {
      "cell_type": "code",
      "execution_count": 1,
      "metadata": {
        "colab": {
          "base_uri": "https://localhost:8080/"
        },
        "id": "WleMYv2UtQnl",
        "outputId": "de95806f-4e3f-4ac2-938f-283f6673ecf5"
      },
      "outputs": [
        {
          "output_type": "stream",
          "name": "stdout",
          "text": [
            "1\n",
            "2\n",
            "3\n",
            "4\n",
            "5\n"
          ]
        }
      ],
      "source": [
        "#Exemplo 1: Imprima de 1 até 5\n",
        "i = 1\n",
        "while i < 6:\n",
        "  print(i)\n",
        "  i += 1\n"
      ]
    },
    {
      "cell_type": "markdown",
      "source": [
        "O WHILE requer variáveis já prontas para funcionar, nesse exemplo incrementamos o i para 1"
      ],
      "metadata": {
        "id": "UPPzLddBx8ss"
      }
    },
    {
      "cell_type": "markdown",
      "source": [
        "## WHILE WITH BREAK"
      ],
      "metadata": {
        "id": "s8zKjxRRykRz"
      }
    },
    {
      "cell_type": "markdown",
      "source": [
        "O WHILE com BREAK nós conseguimos literalmente quebrar o código por intermédio de uma condição."
      ],
      "metadata": {
        "id": "vTWiqZJNyTfR"
      }
    },
    {
      "cell_type": "code",
      "source": [
        "#Exemplo 2: Imprima de 1 até 3\n",
        "i = 1\n",
        "while i < 6:\n",
        "  print(i)\n",
        "  if i == 3:\n",
        "    break\n",
        "  i += 1"
      ],
      "metadata": {
        "colab": {
          "base_uri": "https://localhost:8080/"
        },
        "id": "Xit1gC7pxu-E",
        "outputId": "c1b7d19e-4809-411f-8791-4bfe292a554b"
      },
      "execution_count": 2,
      "outputs": [
        {
          "output_type": "stream",
          "name": "stdout",
          "text": [
            "1\n",
            "2\n",
            "3\n"
          ]
        }
      ]
    },
    {
      "cell_type": "markdown",
      "source": [
        "## WHILE WITH CONTINUE"
      ],
      "metadata": {
        "id": "vUs5ArxzytUB"
      }
    },
    {
      "cell_type": "markdown",
      "source": [
        "Com o comando CONTINUE nós conseguimos parar a iteração corrente e continuar com o próximo."
      ],
      "metadata": {
        "id": "0PdbLC7uyxrB"
      }
    },
    {
      "cell_type": "code",
      "source": [
        "#Exemplo 3: Imprima de 1 até 2 e pule três, após isso print de 4 até 6\n",
        "i = 0\n",
        "while i < 6:\n",
        "  i += 1\n",
        "  if i == 3:\n",
        "    continue\n",
        "  print(i)"
      ],
      "metadata": {
        "colab": {
          "base_uri": "https://localhost:8080/"
        },
        "id": "5E-qetEszV2Z",
        "outputId": "e30cb66b-cb98-40a6-f16b-6adf4a177143"
      },
      "execution_count": 3,
      "outputs": [
        {
          "output_type": "stream",
          "name": "stdout",
          "text": [
            "1\n",
            "2\n",
            "4\n",
            "5\n",
            "6\n"
          ]
        }
      ]
    },
    {
      "cell_type": "markdown",
      "source": [
        "## WHILE WITH ELSE"
      ],
      "metadata": {
        "id": "DO4aW-nVzavh"
      }
    },
    {
      "cell_type": "markdown",
      "source": [
        "Com o else conseguimos rodar um bloco de um código até que a condição não ser mais verdadeira."
      ],
      "metadata": {
        "id": "xBe2R91FzdJh"
      }
    },
    {
      "cell_type": "code",
      "source": [
        "#Exemplo 4: Imprima de 1 até 5 e depois escreva uma mensagem que não é menor que a condição.\n",
        "i = 1\n",
        "while i < 6:\n",
        "  print(i)\n",
        "  i += 1\n",
        "else:\n",
        "  print(\"i não é menor que 6 mais.\")"
      ],
      "metadata": {
        "colab": {
          "base_uri": "https://localhost:8080/"
        },
        "id": "TyOSbw9TzahR",
        "outputId": "9bced1fd-4add-4b1d-8bb5-3f045607bac6"
      },
      "execution_count": 5,
      "outputs": [
        {
          "output_type": "stream",
          "name": "stdout",
          "text": [
            "1\n",
            "2\n",
            "3\n",
            "4\n",
            "5\n",
            "i não é menor que 6 mais.\n"
          ]
        }
      ]
    }
  ]
}