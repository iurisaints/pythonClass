{
  "nbformat": 4,
  "nbformat_minor": 0,
  "metadata": {
    "colab": {
      "provenance": [],
      "authorship_tag": "ABX9TyPBaXRB7TCSFLqJx7B0aYCw",
      "include_colab_link": true
    },
    "kernelspec": {
      "name": "python3",
      "display_name": "Python 3"
    },
    "language_info": {
      "name": "python"
    }
  },
  "cells": [
    {
      "cell_type": "markdown",
      "metadata": {
        "id": "view-in-github",
        "colab_type": "text"
      },
      "source": [
        "<a href=\"https://colab.research.google.com/github/iurisaints/pythonClass/blob/main/Aula9_Classes_e_Metodos.ipynb\" target=\"_parent\"><img src=\"https://colab.research.google.com/assets/colab-badge.svg\" alt=\"Open In Colab\"/></a>"
      ]
    },
    {
      "cell_type": "markdown",
      "source": [
        "<h1> Hora de utilizar classes! </h1>\n",
        "Agora vamos recriar o código feito na aula 8 mas com uma abordagem diferente. Ao invés de usar aqueles métodos soltos no arquivo do código, iremos criar uma classe com um método mágico composta pelo modelo usando os atributos do objeto como parâmetros e os outros métodos para se utilizar quando se importa a classe."
      ],
      "metadata": {
        "id": "lnFpykXrKVJ7"
      }
    },
    {
      "cell_type": "code",
      "execution_count": null,
      "metadata": {
        "id": "wxZC_4voKNo4"
      },
      "outputs": [],
      "source": [
        "#escrita da Classe e seu método mágico:\n",
        "\n",
        "class Conta:\n",
        "  # O primeiro método, chamado de método mágico, carrega no seu nome dois underscores antes e dois depois, para que torne o método privado.\n",
        "  def __init__(self, numero, titular, saldo, limite):\n",
        "    #O self é a forma de se referenciar ao objeto criado, por isso os atributos carregam o self antes.\n",
        "    self.numero = numero\n",
        "    self.titular = titular\n",
        "    self.saldo = saldo\n",
        "    self.limite = limite\n"
      ]
    },
    {
      "cell_type": "markdown",
      "source": [
        "Após criar essa parte do código, agora apenas inserir os outros métodos criados anteriormente dentro da classe."
      ],
      "metadata": {
        "id": "tj5mgPUXLpKd"
      }
    },
    {
      "cell_type": "code",
      "source": [
        "#forma final:\n",
        "class Conta:\n",
        "  \n",
        "  def __init__(self, numero, titular, saldo, limite):\n",
        "    self.numero = numero\n",
        "    self.titular = titular\n",
        "    self.saldo = saldo\n",
        "    self.limite = limite\n",
        "  \n",
        "  def deposita(self, valor):\n",
        "    self.saldo += valor\n",
        "  \n",
        "  def saca(self, valor):\n",
        "    self.saldo -= valor\n",
        "  \n",
        "  def extrato(self):\n",
        "    print(\"numero: {} \\nsaldo: {}\".format(self.numero, self.saldo))"
      ],
      "metadata": {
        "id": "vpDAa3_jLwTP"
      },
      "execution_count": null,
      "outputs": []
    },
    {
      "cell_type": "markdown",
      "source": [
        "<h3>Criando Contas</h3>\n",
        "Agora precisamos trabalhar com esse código, mas importando a classe em outro arquivo. Como faremos isso? Teremos que trabalhar com suposições agora. Digamos que você criou a classe em um arquivo chamado _classes.py_ e agora criou um arquivo chamado _criarContas.py_.\n",
        "Então terá que importar o arquivo _classes_ dentro do _criarContas_. A sua primeira linha de código será `from classes import Conta` pois você está importando do arquivo _classes_ a classe Conta.\n",
        "Dito isso terá que criar a conta primeiro com uma variável recebendo a classe como função e logo depois os parâmetros em sequência.\n",
        "Desta forma:"
      ],
      "metadata": {
        "id": "5wVryvIjMQ8l"
      }
    },
    {
      "cell_type": "code",
      "source": [
        "from classes import Conta\n",
        "\n",
        "contaTeste = Conta('123-4', 'João', 120.0, 1000.0)\n",
        "print(vars(contaTeste))"
      ],
      "metadata": {
        "id": "shBBUW4VNxCX"
      },
      "execution_count": null,
      "outputs": []
    },
    {
      "cell_type": "markdown",
      "source": [
        "Sendo assim, a conta foi criada e você pode printar utilizando: `print(vars(contaTeste))` pois a variável contaTeste virou uma referência ao objeto criando e sendo assim a função vars transforma o objeto para ser visto como forma de dicionário.\n",
        "Teste e veja se deu certo! Qualquer coisa manda um email (para os que tem) ou chama na dm do instagram: @iuri.com.br.\n",
        "Valeu!\n"
      ],
      "metadata": {
        "id": "rvaEJGLSOTX3"
      }
    },
    {
      "cell_type": "code",
      "source": [],
      "metadata": {
        "id": "fh6Nm58JOnxI"
      },
      "execution_count": null,
      "outputs": []
    }
  ]
}