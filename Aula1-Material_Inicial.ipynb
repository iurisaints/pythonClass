{
  "nbformat": 4,
  "nbformat_minor": 0,
  "metadata": {
    "colab": {
      "name": "Material_Inicial.ipynb",
      "provenance": [],
      "authorship_tag": "ABX9TyPoT7j4NQBTDUz1GPXPJOIn",
      "include_colab_link": true
    },
    "kernelspec": {
      "name": "python3",
      "display_name": "Python 3"
    },
    "language_info": {
      "name": "python"
    }
  },
  "cells": [
    {
      "cell_type": "markdown",
      "metadata": {
        "id": "view-in-github",
        "colab_type": "text"
      },
      "source": [
        "<a href=\"https://colab.research.google.com/github/iurisaints/pythonClass/blob/main/Material_Inicial.ipynb\" target=\"_parent\"><img src=\"https://colab.research.google.com/assets/colab-badge.svg\" alt=\"Open In Colab\"/></a>"
      ]
    },
    {
      "cell_type": "markdown",
      "source": [
        "# INTRODUÇÃO"
      ],
      "metadata": {
        "id": "qjEooOpHiiLL"
      }
    },
    {
      "cell_type": "markdown",
      "source": [
        "Olá! Me chamo Iuri, sou professor no IFRS Sertão e provavelmente você veio até aqui pois eu te mandei o link, segue a aula:"
      ],
      "metadata": {
        "id": "4aeHasOPexNl"
      }
    },
    {
      "cell_type": "markdown",
      "source": [
        "# OLÁ, MUNDO!"
      ],
      "metadata": {
        "id": "Dv2RIcusimaa"
      }
    },
    {
      "cell_type": "markdown",
      "source": [
        "Aqui vamos utilizar os primeiros códigos em Python, os códigos simples, o início de tudo:"
      ],
      "metadata": {
        "id": "EygDVeBVfwWT"
      }
    },
    {
      "cell_type": "markdown",
      "source": [
        "O comando **print** é utilizado quando queremos imprimir algo na tela, seja uma mensagem, seja um valor ou até mesmo um resultado de uma função. Vamos utilizar para dar início a nossa jornada no Python:"
      ],
      "metadata": {
        "id": "O1C4S1w8f3Uy"
      }
    },
    {
      "cell_type": "code",
      "execution_count": 1,
      "metadata": {
        "colab": {
          "base_uri": "https://localhost:8080/"
        },
        "id": "z5DKNne-etva",
        "outputId": "7549f953-3836-4298-f647-4c9f5aec7aab"
      },
      "outputs": [
        {
          "output_type": "stream",
          "name": "stdout",
          "text": [
            "Hello World!\n"
          ]
        }
      ],
      "source": [
        "print(\"Hello World!\")"
      ]
    },
    {
      "cell_type": "markdown",
      "source": [
        "Podemos fazer uma conta direto nos **parâmetros** dele, que são os parênteses que ele utiliza para armazenar a mensagem, dessa forma:"
      ],
      "metadata": {
        "id": "QnoEopOjgX0-"
      }
    },
    {
      "cell_type": "code",
      "source": [
        "print(10+20)"
      ],
      "metadata": {
        "colab": {
          "base_uri": "https://localhost:8080/"
        },
        "id": "SyaRqGTygiUN",
        "outputId": "40d81f9b-d2c3-4e72-cdd1-106ebf048225"
      },
      "execution_count": 2,
      "outputs": [
        {
          "output_type": "stream",
          "name": "stdout",
          "text": [
            "30\n"
          ]
        }
      ]
    },
    {
      "cell_type": "markdown",
      "source": [
        "Já que começamos a fazer soma, existem as **variáveis** que assim como na matemática, em suas equações, as letras tem seu valor e podemos utilizá-las aqui. Só que diferente da matemática, podemos colocar o nome da nossa variável de qualquer um, não apenas uma letra, assim:"
      ],
      "metadata": {
        "id": "IXqh1Re5gk18"
      }
    },
    {
      "cell_type": "code",
      "source": [
        "a = 10\n",
        "numero2 = 10\n",
        "print(a+numero2)"
      ],
      "metadata": {
        "colab": {
          "base_uri": "https://localhost:8080/"
        },
        "id": "og9Bm9qwg3FG",
        "outputId": "ae95063d-4dd2-4b85-e588-10d3c5d7b6a9"
      },
      "execution_count": 4,
      "outputs": [
        {
          "output_type": "stream",
          "name": "stdout",
          "text": [
            "20\n"
          ]
        }
      ]
    },
    {
      "cell_type": "markdown",
      "source": [
        "Veja, é super simples manipular um valor em Python. E onde colocamos números, podemos colocar também letras ou até palavras e frases inteiras, só não pode esquecer de colocar esse texto entre aspas, pois é assim que o Python vai diferenciar a letra de um número."
      ],
      "metadata": {
        "id": "xffG-ujqg-Ye"
      }
    },
    {
      "cell_type": "code",
      "source": [
        "a = \"Estou\"\n",
        "b = \" programando\"\n",
        "print(a+b)"
      ],
      "metadata": {
        "colab": {
          "base_uri": "https://localhost:8080/"
        },
        "id": "GIXhQG-8hOmN",
        "outputId": "0794edcb-bcb9-48f3-943d-9c8557d255ed"
      },
      "execution_count": 6,
      "outputs": [
        {
          "output_type": "stream",
          "name": "stdout",
          "text": [
            "Estou programando\n"
          ]
        }
      ]
    },
    {
      "cell_type": "markdown",
      "source": [
        "Bom, agora que você já usou número e letra e sabe fazer, chegou a hora de entender o que estamos fazendo. Os números sem vírgula, são os números inteiros que chamamos de **int**. Os números com vírgula, que ainda vamos usar, são os números decimais, que chamamos de **float**. Para utilizar o **float** não precisamos dizer nada, mas se quisermos números sem vírgula e apenas sem vírgula, delimitamos ao **int**, desta forma:"
      ],
      "metadata": {
        "id": "5m5nrMTHhTj9"
      }
    },
    {
      "cell_type": "code",
      "source": [
        "a = 10.50\n",
        "b = 20.75\n",
        "print(a+b)"
      ],
      "metadata": {
        "colab": {
          "base_uri": "https://localhost:8080/"
        },
        "id": "Igimulpnh4X_",
        "outputId": "7ce806e3-0d44-4fa4-ec35-7e169de4edb1"
      },
      "execution_count": 7,
      "outputs": [
        {
          "output_type": "stream",
          "name": "stdout",
          "text": [
            "31.25\n"
          ]
        }
      ]
    },
    {
      "cell_type": "code",
      "source": [
        "a = int(10.50)\n",
        "b = int(20.75)\n",
        "print(a+b)"
      ],
      "metadata": {
        "colab": {
          "base_uri": "https://localhost:8080/"
        },
        "id": "26izQFz4h-GV",
        "outputId": "4d04c8a7-0911-466c-9ac8-aa51cdeb2cc1"
      },
      "execution_count": 8,
      "outputs": [
        {
          "output_type": "stream",
          "name": "stdout",
          "text": [
            "30\n"
          ]
        }
      ]
    },
    {
      "cell_type": "markdown",
      "source": [
        "Veja que ele ignora, nos valores dentro do parênteses, os números após a vírgula e isso pode fazer até você pensar que está errado, mas antes de fazer a conta ele já excluiu os valores após a vírgula, por isso dá este resultado."
      ],
      "metadata": {
        "id": "pkLEkj3uiFal"
      }
    },
    {
      "cell_type": "markdown",
      "source": [
        "# **INSERINDO DADOS**"
      ],
      "metadata": {
        "id": "fySxbJmNiVBW"
      }
    },
    {
      "cell_type": "markdown",
      "source": [
        "Agora nós já aprendemos a utilizar as variáveis de forma introdutória, mas e se cada vez que você executar o programa você quiser valores diferentes?\n",
        "Existe o comando **input** pra isso. Ao invés de colocarmos o valor, iremos colocar a função **input** e iremos colocar um bloco para receber os parâmetros. Lembra dos parâmetros? Aqueles parênteses após o print? Usamos ele no input, segue o exemplo:\n"
      ],
      "metadata": {
        "id": "XJNuw91diR62"
      }
    },
    {
      "cell_type": "code",
      "source": [
        "a = input()\n",
        "print(a)"
      ],
      "metadata": {
        "colab": {
          "base_uri": "https://localhost:8080/"
        },
        "id": "Al-94jZXjCvg",
        "outputId": "20596955-fbf8-4755-98b9-00a681652399"
      },
      "execution_count": 9,
      "outputs": [
        {
          "output_type": "stream",
          "name": "stdout",
          "text": [
            "10\n",
            "10\n"
          ]
        }
      ]
    },
    {
      "cell_type": "markdown",
      "source": [
        "Abriu uma caixa ali e você colocou o valor e depois pressionou enter e o código retornou o que você colocou. Ao mesmo tempo que é muito legal, é meio sem graça estar um número sem identificação né?! Bom, o Python tem uma forma de dizer para quem está executando, o que é pra fazer. Dentro dos parênteses do input, você pode colocar uma mensagem como você colocou anteriormente no print, segue o exemplo:"
      ],
      "metadata": {
        "id": "UgDaAh6MjGb9"
      }
    },
    {
      "cell_type": "code",
      "source": [
        "a = input(\"Insira um valor: \")\n",
        "print(\"Esse é o valor que você inseriu:\", a)"
      ],
      "metadata": {
        "colab": {
          "base_uri": "https://localhost:8080/"
        },
        "id": "cKp8WyqfjdFl",
        "outputId": "81747750-958f-4ad6-dae7-58373a9f6de3"
      },
      "execution_count": 11,
      "outputs": [
        {
          "output_type": "stream",
          "name": "stdout",
          "text": [
            "Insira um valor: 10\n",
            "Esse é o valor que você inseriu:  10\n"
          ]
        }
      ]
    },
    {
      "cell_type": "markdown",
      "source": [
        "Olhe bem que alí no exemplo eu coloquei, dentro do print uma mensagem, e após a mensagem a variável que recebeu meu valor. O print funciona assim e podemos dividir sempre um texto de uma variável apenas usando a vírgula depois. Desta forma:"
      ],
      "metadata": {
        "id": "VEvG2sYIjm_k"
      }
    },
    {
      "cell_type": "code",
      "source": [
        "a = input(\"Insira um valor: \")\n",
        "b = input(\"Insira outro valor: \")\n",
        "print(\"Esse é o primeiro valor que você inseriu:\", a, \"e este é o segundo:\", b)"
      ],
      "metadata": {
        "colab": {
          "base_uri": "https://localhost:8080/"
        },
        "id": "hchkCqTfj1mc",
        "outputId": "bfc444d1-b600-4cc0-c747-23e2f77a6dd0"
      },
      "execution_count": 13,
      "outputs": [
        {
          "output_type": "stream",
          "name": "stdout",
          "text": [
            "Insira um valor: 10\n",
            "Insira outro valor: 20\n",
            "Esse é o primeiro valor que você inseriu: 10 e este é o segundo: 20\n"
          ]
        }
      ]
    },
    {
      "cell_type": "markdown",
      "source": [
        "Bom, inserimos 2 valores, agora só basta somarmos e vermos o que é possível fazer com dois valores que nós mesmos estipulamos:"
      ],
      "metadata": {
        "id": "Hh1gEY-CkGIO"
      }
    },
    {
      "cell_type": "code",
      "source": [
        "a = input(\"Insira um valor: \")\n",
        "b = input(\"Insira outro valor: \")\n",
        "print(\"Esse é o primeiro valor que você inseriu:\", a, \"e este é o segundo:\", b, \"e a soma deles é: \", a+b)"
      ],
      "metadata": {
        "colab": {
          "base_uri": "https://localhost:8080/"
        },
        "id": "WAl0MLXYku26",
        "outputId": "21a2f501-0146-49f0-d10f-919d6affe688"
      },
      "execution_count": 14,
      "outputs": [
        {
          "output_type": "stream",
          "name": "stdout",
          "text": [
            "Insira um valor: 52\n",
            "Insira outro valor: 25\n",
            "Esse é o primeiro valor que você inseriu: 52 e este é o segundo: 25 e a soma deles é:  5225\n"
          ]
        }
      ]
    },
    {
      "cell_type": "markdown",
      "source": [
        "Você viu o que aconteceu? Ele não somou os valores, tem algo errado, né!? Bom, no input é necessário a gente dizer que quer utilizar os valores e seus tipos, e quais os tipos de valores que vimos até agora? O texto, que é **string**, o inteiro que é **int** e o decimal que é **float**. Se dissermos que queremos um int ou float ele se transforma em número, olha só:"
      ],
      "metadata": {
        "id": "X3j66_pumJY9"
      }
    },
    {
      "cell_type": "markdown",
      "source": [
        "### Inteiro:"
      ],
      "metadata": {
        "id": "BvO_zhoIsEOL"
      }
    },
    {
      "cell_type": "code",
      "source": [
        "a = int(input(\"Insira um valor: \"))\n",
        "b = int(input(\"Insira outro valor: \"))\n",
        "print(\"Esse é o primeiro valor que você inseriu:\", a, \"e este é o segundo:\", b, \"e a soma deles é:\", a+b)"
      ],
      "metadata": {
        "colab": {
          "base_uri": "https://localhost:8080/"
        },
        "id": "FeRdBikMr7Ka",
        "outputId": "b3d18c23-0366-4400-e293-0b95883aedbc"
      },
      "execution_count": 16,
      "outputs": [
        {
          "output_type": "stream",
          "name": "stdout",
          "text": [
            "Insira um valor: 15\n",
            "Insira outro valor: 25\n",
            "Esse é o primeiro valor que você inseriu: 15 e este é o segundo: 25 e a soma deles é: 40\n"
          ]
        }
      ]
    },
    {
      "cell_type": "markdown",
      "source": [
        "### Decimal"
      ],
      "metadata": {
        "id": "huS1Nx-RsHtr"
      }
    },
    {
      "cell_type": "code",
      "source": [
        "a = float(input(\"Insira um valor: \"))\n",
        "b = float(input(\"Insira outro valor: \"))\n",
        "print(\"Esse é o primeiro valor que você inseriu:\", a, \"e este é o segundo:\", b, \"e a soma deles é:\", a+b)"
      ],
      "metadata": {
        "colab": {
          "base_uri": "https://localhost:8080/"
        },
        "id": "lLvz0EqvsDbC",
        "outputId": "3cd2947b-6165-4ffe-f0ae-b3c69bf50867"
      },
      "execution_count": 18,
      "outputs": [
        {
          "output_type": "stream",
          "name": "stdout",
          "text": [
            "Insira um valor: 15.20\n",
            "Insira outro valor: 65.20\n",
            "Esse é o primeiro valor que você inseriu: 15.2 e este é o segundo: 65.2 e a soma deles é: 80.4\n"
          ]
        }
      ]
    }
  ]
}
