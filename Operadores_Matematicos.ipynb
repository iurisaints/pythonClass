{
  "nbformat": 4,
  "nbformat_minor": 0,
  "metadata": {
    "colab": {
      "name": "Operadores_Matematicos.ipynb",
      "provenance": [],
      "authorship_tag": "ABX9TyM7I6MZcnC7H4Eesf/rFJZB",
      "include_colab_link": true
    },
    "kernelspec": {
      "name": "python3",
      "display_name": "Python 3"
    },
    "language_info": {
      "name": "python"
    }
  },
  "cells": [
    {
      "cell_type": "markdown",
      "metadata": {
        "id": "view-in-github",
        "colab_type": "text"
      },
      "source": [
        "<a href=\"https://colab.research.google.com/github/iurisaints/pythonClass/blob/main/Operadores_Matematicos.ipynb\" target=\"_parent\"><img src=\"https://colab.research.google.com/assets/colab-badge.svg\" alt=\"Open In Colab\"/></a>"
      ]
    },
    {
      "cell_type": "markdown",
      "source": [
        "# AULA 2 - OPERAÇÕES MATEMÁTICAS"
      ],
      "metadata": {
        "id": "vpEBKEWb1_tV"
      }
    },
    {
      "cell_type": "markdown",
      "source": [
        "### As quatro principais"
      ],
      "metadata": {
        "id": "qQGY_RyK3hv6"
      }
    },
    {
      "cell_type": "markdown",
      "source": [
        "Para fazer contas matemáticas no Python é super simples, basta você inserir os valores nas variáveis e enviar a operação matemática para outra variável, desta forma:"
      ],
      "metadata": {
        "id": "N5k4Z_XP1o15"
      }
    },
    {
      "cell_type": "code",
      "execution_count": null,
      "metadata": {
        "colab": {
          "base_uri": "https://localhost:8080/"
        },
        "id": "7vwWMIc61mTH",
        "outputId": "fb7f33f2-e474-4607-e8bd-8b9ecfa43eed"
      },
      "outputs": [
        {
          "output_type": "stream",
          "name": "stdout",
          "text": [
            "30\n"
          ]
        }
      ],
      "source": [
        "a = 10\n",
        "b = 20\n",
        "c = a + b\n",
        "print(c)"
      ]
    },
    {
      "cell_type": "markdown",
      "source": [
        "Como vimos na aula anterior, podemos inserir os dados após a execução do programa, assim:"
      ],
      "metadata": {
        "id": "wexBsOm82FZb"
      }
    },
    {
      "cell_type": "code",
      "source": [
        "a = int(input(\"Insira o valor 1:\"))\n",
        "b = int(input(\"Insira o valor 2:\"))\n",
        "c = a + b\n",
        "print(\"O valor da soma do 1° com o 2° valor é:\", c)"
      ],
      "metadata": {
        "colab": {
          "base_uri": "https://localhost:8080/"
        },
        "id": "Fsa12K5f2LMv",
        "outputId": "25fafe3b-653f-4afb-9408-f400f074db5b"
      },
      "execution_count": null,
      "outputs": [
        {
          "output_type": "stream",
          "name": "stdout",
          "text": [
            "Insira o valor 1:15\n",
            "Insira o valor 2:20\n",
            "O valor da soma do 1° com o 2° valor é:\n"
          ]
        }
      ]
    },
    {
      "cell_type": "markdown",
      "source": [
        "E para fazermos as operações, esses são os operadores:\n",
        "**Soma é +, Multipicação é *, Subtração é - e Divisão é /**\n",
        "E podemos usar desta forma:"
      ],
      "metadata": {
        "id": "7uubOYEl2dW_"
      }
    },
    {
      "cell_type": "code",
      "source": [
        "a = int(input(\"Insira o valor 1: \"))\n",
        "b = int(input(\"Insira o valor 2: 2\"))\n",
        "cmais   = a + b\n",
        "cmenos  = a - b\n",
        "cvezes  = a * b\n",
        "cdivide = a / b\n",
        "print(\"O valor da soma do 1° com o 2° valor é:\", cmais)\n",
        "print(\"O valor da subtração do 1° com o 2° valor é:\", cmenos)\n",
        "print(\"O valor da multiplicação do 1° com o 2° valor é:\", cvezes)\n",
        "print(\"O valor da divisão do 1° com o 2° valor é:\", cdivide)"
      ],
      "metadata": {
        "colab": {
          "base_uri": "https://localhost:8080/"
        },
        "id": "KdrBn9ma2c3P",
        "outputId": "28034274-bd66-48d6-8901-ae9700856e93"
      },
      "execution_count": null,
      "outputs": [
        {
          "output_type": "stream",
          "name": "stdout",
          "text": [
            "Insira o valor 1: 50\n",
            "Insira o valor 2: 20\n",
            "O valor da soma do 1° com o 2° valor é: 70\n",
            "O valor da subtração do 1° com o 2° valor é: 30\n",
            "O valor da multiplicação do 1° com o 2° valor é: 1000\n",
            "O valor da divisão do 1° com o 2° valor é: 2.5\n"
          ]
        }
      ]
    },
    {
      "cell_type": "markdown",
      "source": [
        "### Média"
      ],
      "metadata": {
        "id": "u4wIH9q83k95"
      }
    },
    {
      "cell_type": "markdown",
      "source": [
        "Para tirar a média aritimética dos valores temos que ter em mente que caso sejam 2 valores, serão eles somados e divididos por dois, caso sejam três valores, some os valores e divida eles em 3 e assim por diante, como no exemplo:"
      ],
      "metadata": {
        "id": "U93S78Oi3nHx"
      }
    },
    {
      "cell_type": "code",
      "source": [
        "nota1 = float(input(\"Insira uma nota: \"))\n",
        "nota2 = float(input(\"Insira outra nota: \"))\n",
        "media1 = (nota1 + nota2) / 2\n",
        "print(\"O resultado da média de dois valores é: \", media1)\n",
        "nota3 = float(input(\"Insira mais uma nota: \"))\n",
        "media2 = (nota1 + nota2 + nota3) / 3\n",
        "print(\"Agora as três notas somadas e uma média entre elas: \", media2)"
      ],
      "metadata": {
        "colab": {
          "base_uri": "https://localhost:8080/"
        },
        "id": "mR3S_TUQ32op",
        "outputId": "3feb7cc3-2095-4a9d-c58c-c0c2272b11db"
      },
      "execution_count": null,
      "outputs": [
        {
          "output_type": "stream",
          "name": "stdout",
          "text": [
            "Insira uma nota: 90\n",
            "Insira outra nota: 80\n",
            "O resultado da média de dois valores é:  85.0\n",
            "Insira mais uma nota: 50\n",
            "Agora as três notas somadas e uma média entre elas:  73.33333333333333\n"
          ]
        }
      ]
    }
  ]
}