{
  "nbformat": 4,
  "nbformat_minor": 0,
  "metadata": {
    "colab": {
      "provenance": [],
      "authorship_tag": "ABX9TyPVPyRMzBMVDQoyYn8AZlcP",
      "include_colab_link": true
    },
    "kernelspec": {
      "name": "python3",
      "display_name": "Python 3"
    },
    "language_info": {
      "name": "python"
    }
  },
  "cells": [
    {
      "cell_type": "markdown",
      "metadata": {
        "id": "view-in-github",
        "colab_type": "text"
      },
      "source": [
        "<a href=\"https://colab.research.google.com/github/iurisaints/pythonClass/blob/main/Aula8_Introducao_ao_POO.ipynb\" target=\"_parent\"><img src=\"https://colab.research.google.com/assets/colab-badge.svg\" alt=\"Open In Colab\"/></a>"
      ]
    },
    {
      "cell_type": "markdown",
      "source": [
        "##PROGRAMAÇÃO ORIENTADA A OBJETO COM PYTHON\n",
        "\n",
        "Aqui começaremos a maior jornada relacionada a programação até aqui. Iremos discutir em sala sobre os paradigmas que permeiam a programação orientada a objeto. Programação imperativa nos fez chorar, nos fez sorrir e hoje iremos apenas utilizar o que conhecemos como tipos de dados e algumas funções mas nos despediremos dessa forma de programar e iniciar uma nova. Boa sorte a todos que chegaram aqui!"
      ],
      "metadata": {
        "id": "piwzCI1MoCML"
      }
    },
    {
      "cell_type": "markdown",
      "source": [
        "Para iniciarmos, vamos utilizar o exemplo da criação da conta de banco e a manutenção dela."
      ],
      "metadata": {
        "id": "6OCoibrCpAGn"
      }
    },
    {
      "cell_type": "markdown",
      "source": [
        "*Obs.: Os códigos desse módulo não irão funcionar separados, verificar o ultimo bloco de código!*"
      ],
      "metadata": {
        "id": "GGtfVyEp0iRH"
      }
    },
    {
      "cell_type": "code",
      "execution_count": null,
      "metadata": {
        "id": "c_TslTgzle6z"
      },
      "outputs": [],
      "source": [
        "#Aqui é um exemplo de como você vai criar a própria função \"modelo\" para a criação da sua conta\n",
        "def\tcria_conta(numero,\ttitular,\tsaldo,\tlimite):\n",
        "\t\t\t\tconta\t=\t{\"numero\":\tnumero,\t\"titular\":\ttitular,\t\"saldo\":\tsaldo,\t\"limite\":\tlimite}\n",
        "\t\t\t\treturn\tconta"
      ]
    },
    {
      "cell_type": "markdown",
      "source": [
        "É perceptível o quanto mudou nossa forma de programar apenas olhando essas linhas de código. Vamos compreendê-las:\n",
        "Na primeira linha de código vemos uma nova função chamada def, ela é utilizada para **DEFINIRMOS** a explicidade da nossa função, logo ela cria uma função, passa os parâmetros, passa o código necessário e assim se concretiza nosso código. Dentro do código, de forma identada, estamos vendo algo parecido com listas, são chamados de **dicionários**, onde nós estipulamos o valor do nosso índice primeiro e logo depois o valor que irá ter esse índice.\n",
        "Para as aulas sobre Listas [clique aqui!](https://github.com/iurisaints/pythonClass/blob/main/Aula5-Listas.ipynb)."
      ],
      "metadata": {
        "id": "P0UYPIgEpbao"
      }
    },
    {
      "cell_type": "markdown",
      "source": [
        "Na sequencia deste código já podemos utilizá-la como esse exemplo aqui abaixo:"
      ],
      "metadata": {
        "id": "CDcqjY311B9U"
      }
    },
    {
      "cell_type": "code",
      "source": [
        "#Entrada dos valores da conta no dicionário dentro da sua função\n",
        "conta_iuri\t=\tcria_conta('123-4',\t'Prof_Iuri',\t600.0,\t1420.0)"
      ],
      "metadata": {
        "id": "wa85w6BgpTVW"
      },
      "execution_count": null,
      "outputs": []
    },
    {
      "cell_type": "code",
      "source": [
        "#Para mostrar apenas o número da conta utilizando do índice\n",
        "conta_iuri['numero']"
      ],
      "metadata": {
        "id": "t0TfTQNI2Wu0"
      },
      "execution_count": null,
      "outputs": []
    },
    {
      "cell_type": "markdown",
      "source": [
        "Inserimos os valores necessários e agora é necessário criar as funções de manutenção, que farão as seguintes ações: Depositar (Somar no índice \"saldo\"), Sacar (Subtrair do índice \"saldo\"), Extrato (retornar o valor dos índices \"numero\" e \"saldo\")."
      ],
      "metadata": {
        "id": "qKo2YDN71Lu_"
      }
    },
    {
      "cell_type": "code",
      "source": [
        "#Função de Depósito Bancário\n",
        "def\tdeposita(conta,\tvalor):\n",
        "\t\t\t\tconta['saldo']\t+=\tvalor\n",
        "\n",
        "#Função de Saque Bancário\n",
        "def\tsaca(conta,\tvalor):\n",
        "\t\t\t\tconta['saldo']\t-=\tvalor\n",
        "\n",
        "#Função de Extrato Bancário\n",
        "def\textrato(conta):\n",
        "\t\t\t\tprint(\"numero:\t{}\t\\nsaldo:\t{}\".format(conta['numero'],\tconta['saldo']))"
      ],
      "metadata": {
        "id": "uBky0uiP1-iX"
      },
      "execution_count": null,
      "outputs": []
    },
    {
      "cell_type": "markdown",
      "source": [
        "Agora temos que usar e depois disso retornar os valores necessários."
      ],
      "metadata": {
        "id": "CKwp6sf92Q2q"
      }
    },
    {
      "cell_type": "code",
      "source": [
        "conta\t=\tcria_conta('123-4',\t'João',\t120.0,\t1000.0)\n",
        "deposita(conta,\t15.0)\n",
        "extrato(conta)\n",
        "\t\t\t\t#numero:\t'123-4'\n",
        "\t\t\t\t#saldo:\t135.0\n",
        "saca(conta,\t20.0)\n",
        "extrato(conta)\n",
        "\t\t\t\t#numero:\t'123-4'\n",
        "\t\t\t\t#saldo\t115.0"
      ],
      "metadata": {
        "id": "7dqaSgsi8WE6"
      },
      "execution_count": null,
      "outputs": []
    },
    {
      "cell_type": "markdown",
      "source": [
        "###Código para teste:"
      ],
      "metadata": {
        "id": "_o2apRae8h9Z"
      }
    },
    {
      "cell_type": "code",
      "source": [
        "def\tcria_conta(numero,\ttitular,\tsaldo,\tlimite):\n",
        "\t\t\t\tconta\t=\t{\"numero\":\tnumero,\t\"titular\":\ttitular,\t\"saldo\":\tsaldo,\t\"limite\":\tlimite}\n",
        "\t\t\t\treturn\tconta\n",
        "\n",
        "#Função de Depósito Bancário\n",
        "def\tdeposita(conta,\tvalor):\n",
        "\t\t\t\tconta['saldo']\t+=\tvalor\n",
        "\n",
        "#Função de Saque Bancário\n",
        "def\tsaca(conta,\tvalor):\n",
        "\t\t\t\tconta['saldo']\t-=\tvalor\n",
        "\n",
        "#Função de Extrato Bancário\n",
        "def\textrato(conta):\n",
        "\t\t\t\tprint(\"numero:\t{}\t\\nsaldo:\t{}\".format(conta['numero'],\tconta['saldo']))\n",
        "\n",
        "conta_iuri\t=\tcria_conta('123-4',\t'Prof_Iuri',\t600.0,\t1420.0)\n",
        "\n",
        "#para testes, insira o codigo que queira testar a partir daqui:"
      ],
      "metadata": {
        "id": "nYXigdhd8lyt"
      },
      "execution_count": null,
      "outputs": []
    }
  ]
}