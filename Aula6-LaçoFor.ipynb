{
  "nbformat": 4,
  "nbformat_minor": 0,
  "metadata": {
    "colab": {
      "name": "Aula 6 - Laço For.ipynb",
      "provenance": [],
      "authorship_tag": "ABX9TyP0xWn0BJ/v0eG3t2cFN0aX",
      "include_colab_link": true
    },
    "kernelspec": {
      "name": "python3",
      "display_name": "Python 3"
    },
    "language_info": {
      "name": "python"
    }
  },
  "cells": [
    {
      "cell_type": "markdown",
      "metadata": {
        "id": "view-in-github",
        "colab_type": "text"
      },
      "source": [
        "<a href=\"https://colab.research.google.com/github/iurisaints/pythonClass/blob/main/Aula6-La%C3%A7oFor.ipynb\" target=\"_parent\"><img src=\"https://colab.research.google.com/assets/colab-badge.svg\" alt=\"Open In Colab\"/></a>"
      ]
    },
    {
      "cell_type": "markdown",
      "source": [
        "O laço For é utilizado para criar repetições."
      ],
      "metadata": {
        "id": "KN-muQx8IH59"
      }
    },
    {
      "cell_type": "markdown",
      "source": [
        "Para fazermos funcionar um FOR é necessário uma coleção iterável. Um iterável (iterable) é um tipo de objeto que, quando passado para a função embutida iter(), retorna um iterator.\n",
        "Um iterator é objeto que representa um fluxo de dados. Ele é o responsável por dividir o iterável e retornar cada um dos seus elementos."
      ],
      "metadata": {
        "id": "nb0YE_6lIWOl"
      }
    },
    {
      "cell_type": "markdown",
      "source": [
        "A sintáxe padrão é: "
      ],
      "metadata": {
        "id": "qwO4IhbnJkGs"
      }
    },
    {
      "cell_type": "code",
      "execution_count": null,
      "metadata": {
        "id": "gCrMkCH9IDax"
      },
      "outputs": [],
      "source": [
        "for <variável> in <coleção iterável>:\n",
        "    #  Bloco de código que deve se repetir"
      ]
    },
    {
      "cell_type": "markdown",
      "source": [
        "Vamos ver 3 exemplos abaixo:"
      ],
      "metadata": {
        "id": "2U-QT9TIJyc1"
      }
    },
    {
      "cell_type": "code",
      "source": [
        "# Exemplo 0: Utilizando um for vazio\n",
        "for i in range(10):\n",
        "    pass"
      ],
      "metadata": {
        "id": "k1t_fVB0M47C"
      },
      "execution_count": 9,
      "outputs": []
    },
    {
      "cell_type": "code",
      "source": [
        "# Exemplo 1: Utilizando listas dentro do iterator\n",
        "for alfabeto in ['a', 'b', 'c', 'd']:\n",
        "    print(alfabeto)"
      ],
      "metadata": {
        "colab": {
          "base_uri": "https://localhost:8080/"
        },
        "id": "hqLf8rgjJ5hN",
        "outputId": "218ddab2-63fc-4737-f642-397c7a7b672d"
      },
      "execution_count": 1,
      "outputs": [
        {
          "output_type": "stream",
          "name": "stdout",
          "text": [
            "a\n",
            "b\n",
            "c\n",
            "d\n"
          ]
        }
      ]
    },
    {
      "cell_type": "code",
      "source": [
        "# Exemplo 2.1: Utilizando listas dentro do iterator criando a lista anteriormente\n",
        "alfabeto = ['a', 'b', 'c', 'd']\n",
        "for letra in alfabeto: \n",
        "    print(letra)"
      ],
      "metadata": {
        "colab": {
          "base_uri": "https://localhost:8080/"
        },
        "id": "_gqPp34RKnq9",
        "outputId": "582b5a13-77a4-4f00-b2e6-260486fbf7d7"
      },
      "execution_count": 3,
      "outputs": [
        {
          "output_type": "stream",
          "name": "stdout",
          "text": [
            "a\n",
            "b\n",
            "c\n",
            "d\n"
          ]
        }
      ]
    },
    {
      "cell_type": "code",
      "source": [
        "# Exemplo 2: Utilizando string dentro do iterator\n",
        "for letra in 'texto': \n",
        "    print(letra)"
      ],
      "metadata": {
        "colab": {
          "base_uri": "https://localhost:8080/"
        },
        "id": "XPiZ3raBKFnk",
        "outputId": "dc23f95f-0d1b-45a3-ef61-13fc5ca39ada"
      },
      "execution_count": 2,
      "outputs": [
        {
          "output_type": "stream",
          "name": "stdout",
          "text": [
            "t\n",
            "e\n",
            "x\n",
            "t\n",
            "o\n"
          ]
        }
      ]
    },
    {
      "cell_type": "markdown",
      "source": [
        "Utilizando a função range(), que significa alcance, é o valor que a variável vai alcançar até chegar no destino."
      ],
      "metadata": {
        "id": "k3DFJpMoLd-z"
      }
    },
    {
      "cell_type": "code",
      "source": [
        "# Exemplo 3: Utilizando variável vazia no for e range para delimitar o alcance\n",
        "for i in range(10):\n",
        "    print(i)"
      ],
      "metadata": {
        "colab": {
          "base_uri": "https://localhost:8080/"
        },
        "id": "H9orSLXFKR2F",
        "outputId": "dd834b74-405e-45f3-f193-d49e01ff9f8d"
      },
      "execution_count": 7,
      "outputs": [
        {
          "output_type": "stream",
          "name": "stdout",
          "text": [
            "0\n",
            "1\n",
            "2\n",
            "3\n",
            "4\n",
            "5\n",
            "6\n",
            "7\n",
            "8\n",
            "9\n"
          ]
        }
      ]
    },
    {
      "cell_type": "markdown",
      "source": [
        "E há como inserir uma mensagem para quando o comando finalizar inserindo o else que já vimos anteriormente no if."
      ],
      "metadata": {
        "id": "EO1mBRv5MG7L"
      }
    },
    {
      "cell_type": "code",
      "source": [
        "# Exemplo 3.1: Utilizando variável vazia no for e range para delimitar \n",
        "# o alcance com o else para avisar que finalizou o for;\n",
        "for i in range(10):\n",
        "    print(i)\n",
        "else:\n",
        "    print(\"Laço finalizado\")"
      ],
      "metadata": {
        "colab": {
          "base_uri": "https://localhost:8080/"
        },
        "id": "TF20SgmDMrtT",
        "outputId": "594ee15d-5fd0-453c-a906-ea29e6095ae0"
      },
      "execution_count": 8,
      "outputs": [
        {
          "output_type": "stream",
          "name": "stdout",
          "text": [
            "0\n",
            "1\n",
            "2\n",
            "3\n",
            "4\n",
            "5\n",
            "6\n",
            "7\n",
            "8\n",
            "9\n",
            "Laço finalizado\n"
          ]
        }
      ]
    }
  ]
}